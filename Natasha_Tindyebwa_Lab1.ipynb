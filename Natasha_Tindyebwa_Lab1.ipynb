{
  "nbformat": 4,
  "nbformat_minor": 0,
  "metadata": {
    "colab": {
      "provenance": [],
      "include_colab_link": true
    },
    "kernelspec": {
      "name": "python3",
      "display_name": "Python 3"
    },
    "language_info": {
      "name": "python"
    }
  },
  "cells": [
    {
      "cell_type": "markdown",
      "metadata": {
        "id": "view-in-github",
        "colab_type": "text"
      },
      "source": [
        "<a href=\"https://colab.research.google.com/github/natasha-cloud/Certificate-In-Software-Engineering2/blob/main/Natasha_Tindyebwa_Lab1.ipynb\" target=\"_parent\"><img src=\"https://colab.research.google.com/assets/colab-badge.svg\" alt=\"Open In Colab\"/></a>"
      ]
    },
    {
      "cell_type": "markdown",
      "source": [
        "This lab consists of 5 questions that total up to 20 marks. You are to follow the instructions and prove that your solution works at the end of each question. You may include comments where necessary."
      ],
      "metadata": {
        "id": "CpyJhgvxezhm"
      }
    },
    {
      "cell_type": "markdown",
      "source": [
        "***Question 1:***\n",
        "Below is a snippet of code that accept's a user's name as input and displays the name within a message from the computer terminal. Complete the code snippet so that the name is shown in the message. (2 Marks)"
      ],
      "metadata": {
        "id": "G5tT6TTkh-hK"
      }
    },
    {
      "cell_type": "code",
      "source": [
        "# Show logic here\n",
        "name = \"Natasha\"\n",
        "statement = f'Hey there, {name}! This is from the terminal.'\n"
      ],
      "metadata": {
        "id": "3TVHpIT7eV_6"
      },
      "execution_count": 24,
      "outputs": []
    },
    {
      "cell_type": "code",
      "source": [
        "# Print result here.\n",
        "print(statement)"
      ],
      "metadata": {
        "colab": {
          "base_uri": "https://localhost:8080/"
        },
        "id": "3nAIMNSXeV12",
        "outputId": "680937d3-aaa0-4072-bf1f-fe3a3b38cc15"
      },
      "execution_count": 23,
      "outputs": [
        {
          "output_type": "stream",
          "name": "stdout",
          "text": [
            "Hey there, Natasha! This is from the terminal.\n"
          ]
        }
      ]
    },
    {
      "cell_type": "markdown",
      "source": [
        "***Question 2:***\n",
        "The funciton below takes in input of length and width from a user to calculate the area of the rectangle. Complete the function and print out the result. (3 Marks)"
      ],
      "metadata": {
        "id": "f0L2R2pBubbT"
      }
    },
    {
      "cell_type": "code",
      "source": [
        "# Show logic here\n",
        "def get_area():\n",
        "  length = input('Please enter the length of the rectangle: ')\n",
        "  width = input('Please enter the width of the rectangle: ')\n",
        "  area = length * width\n",
        "  print(f'The area of the object is {area} square units.')\n"
      ],
      "metadata": {
        "id": "GtlrKA1jukgl"
      },
      "execution_count": null,
      "outputs": []
    },
    {
      "cell_type": "code",
      "source": [
        "# Print result here.\n",
        "get_area()"
      ],
      "metadata": {
        "id": "bo_g7p-MC4Kq"
      },
      "execution_count": null,
      "outputs": []
    },
    {
      "cell_type": "markdown",
      "source": [
        "***Question 3:*** Write me a funciton lke the one above and invoke 2 instances of rectangles with Rectangle 1 having the dimensions (Width = 13, Length = 17) and Rectangle 2 having the dimensions (Width = 19, Length = 25). The dimensions of the rectangles must be input by a user. Make sure that the function only accepts positive integers. (5 Marks)"
      ],
      "metadata": {
        "id": "lLNjXZ-CgoQ4"
      }
    },
    {
      "cell_type": "code",
      "source": [
        "# Show logic here\n",
        "def get_area():\n",
        "  length = int(input('Please enter the length of the rectangle: '))\n",
        "  width = int(input('Please enter the width of the rectangle: '))\n",
        "\n",
        "  area = length * width\n",
        "\n",
        "  print(f'The area of the object is {area} square units.')\n",
        "get_area()\n",
        "\n",
        "\n",
        "\n",
        "def get_rectangle_area():\n",
        "    while True:\n",
        "        length_input = input('Please enter the length of the rectangle (a positive integer): ')\n",
        "        width_input = input('Please enter the width of the rectangle (a positive integer): ')\n",
        "\n",
        "        if length_input.isdigit() and width_input.isdigit():\n",
        "            length = int(length_input)\n",
        "            width = int(width_input)\n",
        "\n",
        "            if length > 0 and width > 0:\n",
        "                area = length * width\n",
        "                print(f'The area of the rectangle is {area} square units.')\n",
        "                break\n",
        "            else:\n",
        "                print(\"Both length and width must be positive integers.\")\n",
        "        else:\n",
        "            print(\"Please enter valid positive integers for both length and width.\")\n"
      ],
      "metadata": {
        "id": "jEorC2Y5cxxu"
      },
      "execution_count": null,
      "outputs": []
    },
    {
      "cell_type": "code",
      "source": [
        "# Print result here.\n",
        "# Invoke the function for Rectangle 1\n",
        "print(\"For Rectangle 1:\")\n",
        "get_rectangle_area()\n",
        "\n",
        "# Invoke the function for Rectangle 2\n",
        "print(\"For Rectangle 2:\")\n",
        "get_rectangle_area()"
      ],
      "metadata": {
        "id": "LZYbieEKcw_X"
      },
      "execution_count": null,
      "outputs": []
    },
    {
      "cell_type": "markdown",
      "source": [
        "***Question 4:*** Using the formula (0.5 * base * height) create a function that calculates the area of a triangle. Calculate the area of the two triangles Traingle 1 (base = 5, height = 9). and Triangle 2 (base = 11, height = 15) and find out which triangle covers more area than the other. (5 marks)"
      ],
      "metadata": {
        "id": "m4FMDOSQgsXs"
      }
    },
    {
      "cell_type": "code",
      "source": [
        "# Show logic here\n",
        "# Function to calculate the area of a triangle\n",
        "def calculate_triangle_area(base, height):\n",
        "    area = 0.5 * base * height\n",
        "    return area\n",
        "\n",
        "# Triangle 1 dimensions\n",
        "base1 = 5\n",
        "height1 = 9\n",
        "\n",
        "# Triangle 2 dimensions\n",
        "base2 = 11\n",
        "height2 = 15\n",
        "\n",
        "# Calculate the areas of the two triangles\n",
        "area_triangle1 = calculate_triangle_area(base1, height1)\n",
        "area_triangle2 = calculate_triangle_area(base2, height2)\n",
        "\n",
        "# Compare the areas of the two triangles\n",
        "if area_triangle1 > area_triangle2:\n",
        "    print(\"Triangle 1 covers more area than Triangle 2.\")\n",
        "elif area_triangle1 < area_triangle2:\n",
        "    print(\"Triangle 2 covers more area than Triangle 1.\")\n",
        "else:\n",
        "    print(\"Triangle 1 and Triangle 2 cover the same area.\")\n",
        "\n",
        "\n"
      ],
      "metadata": {
        "id": "lVhCvhllgyvL",
        "colab": {
          "base_uri": "https://localhost:8080/"
        },
        "outputId": "a775bccf-821b-4955-860c-9a3b34b1f381"
      },
      "execution_count": null,
      "outputs": [
        {
          "output_type": "stream",
          "name": "stdout",
          "text": [
            "Triangle 2 covers more area than Triangle 1.\n",
            "Area of Triangle 1: 22.5\n",
            "Area of Triangle 2: 82.5\n"
          ]
        }
      ]
    },
    {
      "cell_type": "code",
      "source": [
        "# Print result here.\n",
        "print(f\"Area of Triangle 1: {area_triangle1}\")\n",
        "print(f\"Area of Triangle 2: {area_triangle2}\")"
      ],
      "metadata": {
        "id": "gHstqMJkgzDU",
        "colab": {
          "base_uri": "https://localhost:8080/"
        },
        "outputId": "c981af3e-55ee-40ab-9ad3-934809442e80"
      },
      "execution_count": null,
      "outputs": [
        {
          "output_type": "stream",
          "name": "stdout",
          "text": [
            "Area of Triangle 1: 22.5\n",
            "Area of Triangle 2: 82.5\n"
          ]
        }
      ]
    },
    {
      "cell_type": "markdown",
      "source": [
        "***Question 5:*** There are two circles Circle 1 (radius = 8) and Circle 2 (radius = 13) with a relationship such that Circle 1 is inside Circle 2. Using the formula for area of a cirlce (pi * (radius ** 2)) and assuming pi = 22/7, calculate how much area in percentage Circle 1 takes up inside Circle 2. (5 Marks)"
      ],
      "metadata": {
        "id": "hbeb_cBig5J3"
      }
    },
    {
      "cell_type": "code",
      "source": [
        "# Show logic here\n",
        "# Define the radii of Circle 1 and Circle 2\n",
        "radius_circle1 = 8\n",
        "radius_circle2 = 13\n",
        "\n",
        "# Calculate the areas of Circle 1 and Circle 2\n",
        "area_circle1 = (22/7) * (radius_circle1 ** 2)\n",
        "area_circle2 = (22/7) * (radius_circle2 ** 2)\n",
        "\n",
        "# Calculate the percentage of Circle 1's area inside Circle 2\n",
        "percentage_area_inside = (area_circle1 / area_circle2) * 100\n",
        "\n"
      ],
      "metadata": {
        "id": "LfOak35Eg7Ju"
      },
      "execution_count": null,
      "outputs": []
    },
    {
      "cell_type": "code",
      "source": [
        "# Print result here.\n",
        "print(f\"Circle 1 takes up {percentage_area_inside:.2f}% of the area inside Circle 2.\")"
      ],
      "metadata": {
        "id": "XivKicCYg7YQ",
        "colab": {
          "base_uri": "https://localhost:8080/"
        },
        "outputId": "ce1a2d2c-20a9-40c8-9837-e273cff727f5"
      },
      "execution_count": null,
      "outputs": [
        {
          "output_type": "stream",
          "name": "stdout",
          "text": [
            "Circle 1 takes up 37.87% of the area inside Circle 2.\n"
          ]
        }
      ]
    }
  ]
}